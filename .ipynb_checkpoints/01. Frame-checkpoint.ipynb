{
 "cells": [
  {
   "cell_type": "code",
   "execution_count": 4,
   "id": "e7cdbcec",
   "metadata": {},
   "outputs": [],
   "source": [
    "import cv2\n",
    "import numpy as np\n",
    "from PIL import ImageFont, ImageDraw, Image\n",
    "\n",
    "def myPutText(src, text, pos, font_size, font_color):\n",
    "    img_pil = Image.fromarray(src)\n",
    "    draw = ImageDraw.Draw(img_pil)\n",
    "    font = ImageFont.truetype('fonts/gulim.ttc', font_size)\n",
    "    draw.text(pos, text, font = font, fill = font_color)\n",
    "    return np.array(img_pil)\n",
    "\n",
    "def mouse_handler(event, x, y, flags, param):\n",
    "    global mouse_loc\n",
    "    global state\n",
    "    if event == cv2.EVENT_LBUTTONDOWN: # 마우스 왼쪽 버튼 누름\n",
    "        state = (state + 1)%3\n",
    "    elif event == cv2.EVENT_LBUTTONUP: # 마우스 왼쪽 버튼 땜\n",
    "        pass\n",
    "        \n",
    "# Color\n",
    "WHITE = (255, 255, 255)\n",
    "BLUE = (255, 0, 0)\n",
    "GREEN = (0, 255, 0)\n",
    "YELLOW = (0, 255, 255)\n",
    "BLACK = (0,0,0)\n",
    "\n",
    "state = 0\n",
    "\n",
    "# read image\n",
    "logo1 = cv2.imread('logo1.png')\n",
    "logo2 = cv2.imread('logo2.png')\n",
    "logo3 = cv2.imread('logo3.png')\n",
    "\n",
    "cup = cv2.imread('cup_front.png')\n",
    "QR = cv2.imread('QR.png')\n",
    "h1, w1, _ = logo1.shape\n",
    "h_cup, w_cup, _ = cup.shape\n",
    "\n",
    "# Initial Image\n",
    "init_img = np.zeros((640, 640, 3), dtype = np.uint8)\n",
    "init_img[:,:] = (255, 255, 255)\n",
    "myPutText(init_img, '화면의 아무 곳이나 터치하여 다음 단계로 넘어가세요', (75, 600), 20, BLACK)\n",
    "\n",
    "img = init_img\n",
    "\n",
    "# Window\n",
    "window_name = 'Frame'\n",
    "cv2.namedWindow(window_name) \n",
    "\n",
    "# Load the video\n",
    "cap = cv2.VideoCapture(0)\n",
    "\n",
    "while True:\n",
    "    cv2.setMouseCallback(window_name, mouse_handler)\n",
    "    if state == 0:\n",
    "        img = myPutText(img, '아래 브랜드에 해당하는 컵을 놔주세요', (50, 20), 30, BLACK)\n",
    "        img[80:80+h1, 14:14+w1] = logo1\n",
    "        img[80:80+h1, 14+w1: 14+w1*2] = logo2\n",
    "        img[80:80+h1, 14+w1*2: 14+w1*3] = logo3\n",
    "        img = myPutText(img, '아래 사진 처럼 로고가 보이게 컵을 놔주세요', (20, 220), 30, BLACK)\n",
    "        img[300:420,260:380] = cup\n",
    "    elif state == 1:\n",
    "        img = myPutText(img, '컵을 확인할 때까지 기다려주세요', (90, 20), 30, BLACK)\n",
    "        ret, frame = cap.read()\n",
    "        if not ret:\n",
    "            print('영상을 사용할 수 없음')\n",
    "            break\n",
    "        img[80:560, 80:560] = frame[:, 80:560]\n",
    "    elif state == 2:\n",
    "        img = myPutText(img, '아래 QR 코드로 환급 받아가세요', (90, 20), 30, BLACK)\n",
    "        img[80:560, 80:560] = cv2.resize(QR, (480,480))\n",
    "        \n",
    "            \n",
    "    cv2.imshow(window_name, img)\n",
    "    img = init_img\n",
    "    if cv2.waitKey(1) == ord('q'):\n",
    "        break\n",
    "        \n",
    "        \n",
    "cap.release()\n",
    "cv2.destroyAllWindows()"
   ]
  },
  {
   "cell_type": "code",
   "execution_count": 59,
   "id": "4035bbe8",
   "metadata": {},
   "outputs": [],
   "source": [
    "image = cv2.imread('QRcode_A1.png')\n",
    "image1 = cv2.resize(image,(500, 500) )\n",
    "# cv2.imwrite('cup_front.png', image1)\n",
    "cv2.imshow('image',image1)\n",
    "cv2.waitKey()\n",
    "cv2.destroyAllWindows()"
   ]
  },
  {
   "cell_type": "code",
   "execution_count": 56,
   "id": "0d81d188",
   "metadata": {},
   "outputs": [
    {
     "data": {
      "text/plain": [
       "(500, 500, 3)"
      ]
     },
     "execution_count": 56,
     "metadata": {},
     "output_type": "execute_result"
    }
   ],
   "source": [
    "#logo2 = cv2.imread('twosome_logo.png')\n",
    "image1.shape"
   ]
  },
  {
   "cell_type": "code",
   "execution_count": 15,
   "id": "756c5951",
   "metadata": {
    "scrolled": true
   },
   "outputs": [
    {
     "name": "stdout",
     "output_type": "stream",
     "text": [
      "120.42647058823529\n"
     ]
    }
   ],
   "source": [
    "print(57*431/204)"
   ]
  },
  {
   "cell_type": "code",
   "execution_count": 52,
   "id": "8e5ffba4",
   "metadata": {},
   "outputs": [
    {
     "data": {
      "text/plain": [
       "(1500, 1500, 3)"
      ]
     },
     "execution_count": 52,
     "metadata": {},
     "output_type": "execute_result"
    }
   ],
   "source": [
    "image.shape"
   ]
  },
  {
   "cell_type": "code",
   "execution_count": 83,
   "id": "50e865fc",
   "metadata": {},
   "outputs": [],
   "source": [
    "import cv2\n",
    "import numpy as np\n",
    "\n",
    "# Read the image with alpha channel\n",
    "img = cv2.imread('QRcode_A1.png', cv2.IMREAD_UNCHANGED)\n",
    "\n",
    "# Convert pixels with alpha value of 1 to (255, 255, 255)\n",
    "alpha = img[:, :, 3]\n",
    "img[np.where((alpha <= 0.9))] = (255, 255, 255, 1)\n",
    "a = cv2.resize(img,(500, 500))\n",
    "cv2.imwrite('QR.png', a)\n",
    "# Display the modified image\n",
    "cv2.imshow(\"Modified Image\", a)\n",
    "cv2.waitKey(0)\n",
    "cv2.destroyAllWindows()\n"
   ]
  },
  {
   "cell_type": "code",
   "execution_count": 70,
   "id": "a051582b",
   "metadata": {},
   "outputs": [
    {
     "data": {
      "text/plain": [
       "array([[0, 0, 0, ..., 0, 0, 0],\n",
       "       [0, 0, 0, ..., 0, 0, 0],\n",
       "       [0, 0, 0, ..., 0, 0, 0],\n",
       "       ...,\n",
       "       [0, 0, 0, ..., 0, 0, 0],\n",
       "       [0, 0, 0, ..., 0, 0, 0],\n",
       "       [0, 0, 0, ..., 0, 0, 0]], dtype=uint8)"
      ]
     },
     "execution_count": 70,
     "metadata": {},
     "output_type": "execute_result"
    }
   ],
   "source": [
    "alpha"
   ]
  }
 ],
 "metadata": {
  "kernelspec": {
   "display_name": "Python 3 (ipykernel)",
   "language": "python",
   "name": "python3"
  },
  "language_info": {
   "codemirror_mode": {
    "name": "ipython",
    "version": 3
   },
   "file_extension": ".py",
   "mimetype": "text/x-python",
   "name": "python",
   "nbconvert_exporter": "python",
   "pygments_lexer": "ipython3",
   "version": "3.7.12"
  }
 },
 "nbformat": 4,
 "nbformat_minor": 5
}
