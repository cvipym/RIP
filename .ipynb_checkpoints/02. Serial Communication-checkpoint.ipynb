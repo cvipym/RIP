{
 "cells": [
  {
   "cell_type": "code",
   "execution_count": 2,
   "id": "b193f336",
   "metadata": {
    "scrolled": true
   },
   "outputs": [
    {
     "name": "stdout",
     "output_type": "stream",
     "text": [
      "8bit information:a\n",
      "b\n",
      "8bit information:c\n",
      "d\n",
      "8bit information:d\n",
      "e\n",
      "8bit information:e\n",
      "f\n",
      "8bit information:q\n"
     ]
    }
   ],
   "source": [
    "import serial\n",
    "import time\n",
    "\n",
    "ser = serial.Serial(port = 'COM5', baudrate = 9600)\n",
    "\n",
    "while True:\n",
    "    cmd = input('8bit information:')\n",
    "    \n",
    "    if cmd == 'q':\n",
    "        break\n",
    "    \n",
    "    ser.write(cmd.encode())\n",
    "    \n",
    "    time.sleep(0.1)\n",
    "    \n",
    "    if ser.readable():\n",
    "        response = ser.read(1)\n",
    "        print(response.decode())\n",
    "        \n",
    "ser.close()"
   ]
  },
  {
   "cell_type": "code",
   "execution_count": 11,
   "id": "29ba07fc",
   "metadata": {},
   "outputs": [
    {
     "data": {
      "text/plain": [
       "128"
      ]
     },
     "execution_count": 11,
     "metadata": {},
     "output_type": "execute_result"
    }
   ],
   "source": [
    "a = 0b10000000\n",
    "a"
   ]
  },
  {
   "cell_type": "code",
   "execution_count": 36,
   "id": "d18e9f0e",
   "metadata": {
    "scrolled": true
   },
   "outputs": [
    {
     "name": "stdout",
     "output_type": "stream",
     "text": [
      "command:a\n"
     ]
    },
    {
     "ename": "NameError",
     "evalue": "name 'saprint' is not defined",
     "output_type": "error",
     "traceback": [
      "\u001b[1;31m---------------------------------------------------------------------------\u001b[0m",
      "\u001b[1;31mNameError\u001b[0m                                 Traceback (most recent call last)",
      "\u001b[1;32m~\\AppData\\Local\\Temp\\ipykernel_20384\\2649011764.py\u001b[0m in \u001b[0;36m<module>\u001b[1;34m\u001b[0m\n\u001b[0;32m     20\u001b[0m     \u001b[1;32mwhile\u001b[0m\u001b[1;33m(\u001b[0m\u001b[1;32mnot\u001b[0m \u001b[0mser\u001b[0m\u001b[1;33m.\u001b[0m\u001b[0mreadable\u001b[0m\u001b[1;33m(\u001b[0m\u001b[1;33m)\u001b[0m\u001b[1;33m)\u001b[0m\u001b[1;33m:\u001b[0m \u001b[1;32mpass\u001b[0m\u001b[1;33m\u001b[0m\u001b[1;33m\u001b[0m\u001b[0m\n\u001b[0;32m     21\u001b[0m     \u001b[0mresponse\u001b[0m \u001b[1;33m=\u001b[0m \u001b[0mser\u001b[0m\u001b[1;33m.\u001b[0m\u001b[0mread\u001b[0m\u001b[1;33m(\u001b[0m\u001b[1;36m1\u001b[0m\u001b[1;33m)\u001b[0m\u001b[1;33m\u001b[0m\u001b[1;33m\u001b[0m\u001b[0m\n\u001b[1;32m---> 22\u001b[1;33m     \u001b[0msaprint\u001b[0m\u001b[1;33m(\u001b[0m\u001b[0mresponse\u001b[0m\u001b[1;33m.\u001b[0m\u001b[0mdecode\u001b[0m\u001b[1;33m(\u001b[0m\u001b[1;33m)\u001b[0m\u001b[1;33m)\u001b[0m\u001b[1;33m\u001b[0m\u001b[1;33m\u001b[0m\u001b[0m\n\u001b[0m\u001b[0;32m     23\u001b[0m \u001b[1;33m\u001b[0m\u001b[0m\n\u001b[0;32m     24\u001b[0m \u001b[0mser\u001b[0m\u001b[1;33m.\u001b[0m\u001b[0mclose\u001b[0m\u001b[1;33m(\u001b[0m\u001b[1;33m)\u001b[0m\u001b[1;33m\u001b[0m\u001b[1;33m\u001b[0m\u001b[0m\n",
      "\u001b[1;31mNameError\u001b[0m: name 'saprint' is not defined"
     ]
    }
   ],
   "source": [
    "import serial\n",
    "import time\n",
    "\n",
    "ser = serial.Serial(port = 'COM5', baudrate = 9600)\n",
    "\n",
    "while True:\n",
    "    cmd = input('command:')\n",
    "    \n",
    "    if cmd == 'a':\n",
    "        ser.write(bytes([0b10000000]))\n",
    "    elif cmd == 'b':\n",
    "        ser.write(bytes([0b11000000]))\n",
    "    elif cmd == 'c':\n",
    "        ser.write(bytes([0b00000000]))\n",
    "    else:\n",
    "        break\n",
    "    \n",
    "    # ser.write(cmd.encode())\n",
    "    \n",
    "    while(not ser.readable()): pass\n",
    "    response = ser.read(1)\n",
    "    print(response.decode())\n",
    "        \n",
    "ser.close()"
   ]
  },
  {
   "cell_type": "code",
   "execution_count": 24,
   "id": "dd5c960b",
   "metadata": {},
   "outputs": [
    {
     "data": {
      "text/plain": [
       "True"
      ]
     },
     "execution_count": 24,
     "metadata": {},
     "output_type": "execute_result"
    }
   ],
   "source": [
    "bytes([0b11000000]) == b'\\xc0'"
   ]
  },
  {
   "cell_type": "code",
   "execution_count": 30,
   "id": "dbf0d4c5",
   "metadata": {},
   "outputs": [
    {
     "data": {
      "text/plain": [
       "b'@'"
      ]
     },
     "execution_count": 30,
     "metadata": {},
     "output_type": "execute_result"
    }
   ],
   "source": [
    "bytes([0b10000000]) and bytes([0b01000000])"
   ]
  }
 ],
 "metadata": {
  "kernelspec": {
   "display_name": "Python 3 (ipykernel)",
   "language": "python",
   "name": "python3"
  },
  "language_info": {
   "codemirror_mode": {
    "name": "ipython",
    "version": 3
   },
   "file_extension": ".py",
   "mimetype": "text/x-python",
   "name": "python",
   "nbconvert_exporter": "python",
   "pygments_lexer": "ipython3",
   "version": "3.7.12"
  }
 },
 "nbformat": 4,
 "nbformat_minor": 5
}
