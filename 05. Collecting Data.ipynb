{
 "cells": [
  {
   "cell_type": "code",
   "execution_count": 3,
   "id": "2e157a69",
   "metadata": {},
   "outputs": [],
   "source": [
    "import cv2\n",
    "import glob\n",
    "\n",
    "\n",
    "# Open the data file\n",
    "image_path = './dataset/images/*.png'\n",
    "image_files = glob.glob(image_path) # Counthing the number of image files\n",
    "k = len(image_files)\n",
    "\n",
    "# 0이 안되면 1로 바꿔보기\n",
    "cap = cv2.VideoCapture(0)\n",
    "\n",
    "while True:\n",
    "    ret, frame = cap.read()\n",
    "    if not ret:\n",
    "        break\n",
    "    # Double scaling for accuracy\n",
    "    # You can remove this, if you don't want\n",
    "    frame = cv2.resize(frame, None, fx=2, fy=2, interpolation=cv2.INTER_CUBIC)\n",
    "    # Since using a selfie camera, mirror the image horizontally\n",
    "    frame = cv2.flip(frame, 1)\n",
    "    image = frame\n",
    "    key = cv2.waitKey(1)\n",
    "    if key == ord('q'):\n",
    "        break\n",
    "    elif key == ord('a'): # Press the 'a' key to save\n",
    "        cv2.imwrite('./dataset/images/{:04d}_img.png'.format(k), image)\n",
    "        k += 1\n",
    "    \n",
    "    cv2.imshow('img', frame)\n",
    "        \n",
    "\n",
    "cap.release()\n",
    "cv2.destroyAllWindows()"
   ]
  }
 ],
 "metadata": {
  "kernelspec": {
   "display_name": "Python 3 (ipykernel)",
   "language": "python",
   "name": "python3"
  },
  "language_info": {
   "codemirror_mode": {
    "name": "ipython",
    "version": 3
   },
   "file_extension": ".py",
   "mimetype": "text/x-python",
   "name": "python",
   "nbconvert_exporter": "python",
   "pygments_lexer": "ipython3",
   "version": "3.7.12"
  }
 },
 "nbformat": 4,
 "nbformat_minor": 5
}
