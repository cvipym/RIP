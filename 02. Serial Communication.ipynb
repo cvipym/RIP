{
 "cells": [
  {
   "cell_type": "markdown",
   "id": "8b4f8300",
   "metadata": {},
   "source": [
    "# Arduino와 통신하기"
   ]
  },
  {
   "cell_type": "markdown",
   "id": "a2a9c866",
   "metadata": {},
   "source": [
    "## 1. 1byte 주고받기\n",
    "- Serial.ino 파일 생성하기"
   ]
  },
  {
   "cell_type": "code",
   "execution_count": 2,
   "id": "b193f336",
   "metadata": {
    "scrolled": true
   },
   "outputs": [
    {
     "name": "stdout",
     "output_type": "stream",
     "text": [
      "8bit information:a\n",
      "b\n",
      "8bit information:c\n",
      "d\n",
      "8bit information:d\n",
      "e\n",
      "8bit information:e\n",
      "f\n",
      "8bit information:q\n"
     ]
    }
   ],
   "source": [
    "import serial\n",
    "import time\n",
    "\n",
    "ser = serial.Serial(port = 'COM5', baudrate = 9600)\n",
    "\n",
    "while True:\n",
    "    cmd = input('8bit information:')\n",
    "    \n",
    "    if cmd == 'q':\n",
    "        break\n",
    "    \n",
    "    ser.write(cmd.encode())\n",
    "    \n",
    "    time.sleep(0.1)\n",
    "    \n",
    "    if ser.readable():\n",
    "        response = ser.read(1)\n",
    "        print(response.decode())\n",
    "        \n",
    "ser.close()"
   ]
  },
  {
   "cell_type": "markdown",
   "id": "cdd6b69a",
   "metadata": {},
   "source": [
    "## 2. 명령어 전달하기\n",
    "- Serial_cmd.ino 파일 실행하기"
   ]
  },
  {
   "cell_type": "code",
   "execution_count": 38,
   "id": "ecfb25e7",
   "metadata": {
    "scrolled": true
   },
   "outputs": [
    {
     "name": "stdout",
     "output_type": "stream",
     "text": [
      "command:a\n",
      "a\n",
      "command:b\n",
      "b\n",
      "command:c\n",
      "c\n",
      "command:a\n",
      "a\n",
      "command:c\n",
      "c\n",
      "command:b\n",
      "b\n",
      "command:q\n"
     ]
    }
   ],
   "source": [
    "import serial\n",
    "import time\n",
    "\n",
    "ser = serial.Serial(port = 'COM5', baudrate = 9600)\n",
    "\n",
    "while True:\n",
    "    cmd = input('command:')\n",
    "    \n",
    "    if cmd == 'a':\n",
    "        ser.write(bytes([0b10000000]))\n",
    "    elif cmd == 'b':\n",
    "        ser.write(bytes([0b11000000]))\n",
    "    elif cmd == 'c':\n",
    "        ser.write(bytes([0b00000000]))\n",
    "    else:\n",
    "        break\n",
    "    \n",
    "    # ser.write(cmd.encode())\n",
    "    \n",
    "    while(not ser.readable()): pass\n",
    "    response = ser.read(1)\n",
    "    print(response.decode())\n",
    "        \n",
    "ser.close()"
   ]
  },
  {
   "cell_type": "code",
   "execution_count": 24,
   "id": "3346db03",
   "metadata": {},
   "outputs": [
    {
     "data": {
      "text/plain": [
       "True"
      ]
     },
     "execution_count": 24,
     "metadata": {},
     "output_type": "execute_result"
    }
   ],
   "source": [
    "bytes([0b11000000]) == b'\\xc0'"
   ]
  },
  {
   "cell_type": "code",
   "execution_count": 30,
   "id": "8ef62498",
   "metadata": {},
   "outputs": [
    {
     "data": {
      "text/plain": [
       "b'@'"
      ]
     },
     "execution_count": 30,
     "metadata": {},
     "output_type": "execute_result"
    }
   ],
   "source": [
    "bytes([0b10000000]) and bytes([0b01000000])"
   ]
  }
 ],
 "metadata": {
  "kernelspec": {
   "display_name": "Python 3 (ipykernel)",
   "language": "python",
   "name": "python3"
  },
  "language_info": {
   "codemirror_mode": {
    "name": "ipython",
    "version": 3
   },
   "file_extension": ".py",
   "mimetype": "text/x-python",
   "name": "python",
   "nbconvert_exporter": "python",
   "pygments_lexer": "ipython3",
   "version": "3.7.12"
  }
 },
 "nbformat": 4,
 "nbformat_minor": 5
}
